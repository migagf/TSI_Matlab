{
 "cells": [
  {
   "cell_type": "markdown",
   "id": "1d1802da-7542-43c7-a710-a716d6f1f1d1",
   "metadata": {},
   "source": [
    "Properties of the Rail Pads\n",
    "\n",
    "Young's Modulus $E = 11$ MPa\n",
    "Shear Modulus\n"
   ]
  },
  {
   "cell_type": "code",
   "execution_count": 9,
   "id": "5126f106-0d68-46b1-9de8-5cf3b010b67b",
   "metadata": {
    "tags": []
   },
   "outputs": [
    {
     "name": "stdout",
     "output_type": "stream",
     "text": [
      "Shear Modulus = 3.900709219858156 MPa\n"
     ]
    }
   ],
   "source": [
    "E = 11 # MPa\n",
    "nu = 0.41 \n",
    "G = E/(2*(1+nu))\n",
    "\n",
    "print(\"Shear Modulus =\", G, \"MPa\")"
   ]
  },
  {
   "cell_type": "markdown",
   "id": "ab58ca9c-d876-4b06-a36d-4cce04b0e740",
   "metadata": {},
   "source": [
    "Vertical Stiffness of the Pads"
   ]
  },
  {
   "cell_type": "code",
   "execution_count": 8,
   "id": "f17f5953-6772-4c2d-ad56-b2ec1bf9b7e7",
   "metadata": {
    "tags": []
   },
   "outputs": [
    {
     "name": "stdout",
     "output_type": "stream",
     "text": [
      "Vertical Stiffness Kv = 30937.5 kN/m\n"
     ]
    }
   ],
   "source": [
    "b_rail = 150   # mm\n",
    "b_pad = 150    # mm\n",
    "e_pad = 8      # Thickness of pad (mm)\n",
    "\n",
    "A_eff = b_rail * b_pad\n",
    "K_v = E * A_eff / e_pad\n",
    "\n",
    "print(\"Vertical Stiffness Kv =\", K_v, \"kN/m\")"
   ]
  },
  {
   "cell_type": "markdown",
   "id": "12e511aa-2ce3-412d-aa0a-670ea0a3648a",
   "metadata": {},
   "source": [
    "Lateral Stiffness of Pads (Shear)\n",
    "Assuming that the lateral stiffness only includes the shear of the pads (because the rotation is considered separate)"
   ]
  },
  {
   "cell_type": "code",
   "execution_count": 10,
   "id": "a3b723c1-44b4-40f5-ba24-6c9abf6932f4",
   "metadata": {
    "tags": []
   },
   "outputs": [
    {
     "name": "stdout",
     "output_type": "stream",
     "text": [
      "Lateral Stiffness Kl = 10970.744680851065 kN/m\n"
     ]
    }
   ],
   "source": [
    "K_l = G * A_eff / e_pad\n",
    "\n",
    "print(\"Lateral Stiffness Kl =\", K_l, \"kN/m\")"
   ]
  },
  {
   "cell_type": "markdown",
   "id": "183d068d-1f2d-4138-ab94-4b19fdf654f1",
   "metadata": {},
   "source": [
    "Rotational Stiffness"
   ]
  },
  {
   "cell_type": "code",
   "execution_count": 14,
   "id": "05afb30d-6d95-4f53-b56c-28fb3552c1bd",
   "metadata": {
    "tags": []
   },
   "outputs": [
    {
     "name": "stdout",
     "output_type": "stream",
     "text": [
      "Rotational Stiffness Ktheta = 58.0078125 kN-m\n"
     ]
    }
   ],
   "source": [
    "K_theta = E * b_pad * b_rail ** 3 / (12 * e_pad) / 1000000\n",
    "\n",
    "print(\"Rotational Stiffness Ktheta =\", K_theta, \"kN-m\")"
   ]
  }
 ],
 "metadata": {
  "kernelspec": {
   "display_name": "Python 3 (ipykernel)",
   "language": "python",
   "name": "python3"
  },
  "language_info": {
   "codemirror_mode": {
    "name": "ipython",
    "version": 3
   },
   "file_extension": ".py",
   "mimetype": "text/x-python",
   "name": "python",
   "nbconvert_exporter": "python",
   "pygments_lexer": "ipython3",
   "version": "3.11.3"
  }
 },
 "nbformat": 4,
 "nbformat_minor": 5
}
